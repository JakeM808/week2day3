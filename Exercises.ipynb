{
 "cells": [
  {
   "cell_type": "markdown",
   "metadata": {},
   "source": [
    "### Exercise 1"
   ]
  },
  {
   "cell_type": "markdown",
   "metadata": {},
   "source": [
    "Given an array of positive integers `nums`, return a list of all of the negative integers.<br>\n",
    "Ex. 1<br>\n",
    "nums = [1, 3, 5, 7, 8]<br>\n",
    "Expected Output: [-1, -3, -5, -7, -8]<br>\n",
    "\n",
    "Ex. 2<br>\n",
    "nums = [100, 534, 32, 15, 77, 222, 788, 345, 75645, 22]<br>\n",
    "Expected Output: [-100, -534, -32, -15, -77, -222, -788, -345, -75645, -22]<br>"
   ]
  },
  {
   "cell_type": "code",
   "execution_count": 11,
   "metadata": {
    "slideshow": {
     "slide_type": ""
    },
    "tags": []
   },
   "outputs": [
    {
     "name": "stdout",
     "output_type": "stream",
     "text": [
      "[]\n",
      "[-1, -3, -5, -7, -8]\n"
     ]
    },
    {
     "data": {
      "text/plain": [
       "[-1, -3, -5, -7, -8]"
      ]
     },
     "execution_count": 11,
     "metadata": {},
     "output_type": "execute_result"
    }
   ],
   "source": [
    "# iterate over llist\n",
    "# to determine if element is < 0\n",
    "# if yes, add to new list\n",
    "nums = [1, 3, 5, 7, 8]\n",
    "\n",
    "# neg_list = []\n",
    "# for i in nums:\n",
    "#     if i < 0:\n",
    "#         neg_list.append(i)\n",
    "\n",
    "# print(neg_list)\n",
    "\n",
    "\n",
    "# neg_list = []\n",
    "\n",
    "# for i in nums:\n",
    "#     neg_list.append(-i)\n",
    "    \n",
    "# print(neg_list)\n",
    "\n",
    "    \n",
    "def negative_nums(numbers):\n",
    "    neg_list = []\n",
    "    for i in numbers:\n",
    "        neg_list.append(-i)\n",
    "        \n",
    "    return neg_list\n",
    "        \n",
    "\n",
    "negative_nums(nums)\n"
   ]
  },
  {
   "cell_type": "markdown",
   "metadata": {},
   "source": [
    "### Exercise 2"
   ]
  },
  {
   "cell_type": "markdown",
   "metadata": {},
   "source": [
    "Given a string, return a list of all of the digits in the string.<br>\n",
    "Ex. 1 <br>\n",
    "address = \"123 Real Street, Apt. 2, Springfield, OR 43498\"<br>\n",
    "Expected Output: ['1', '2', '3', '2', '4', '3', '4', '9', '8']<br>\n",
    "\n",
    "Ex. 2 <br>\n",
    "sentence = \"My phone number is (555) 555-4321\"<br>\n",
    "Expected Output: ['5', '5', '5', '5', '5', '5', '4', '3', '2', '1']<br>"
   ]
  },
  {
   "cell_type": "code",
   "execution_count": 12,
   "metadata": {},
   "outputs": [
    {
     "data": {
      "text/plain": [
       "[5, 5, 5, 5, 5, 5, 4, 3, 2, 1]"
      ]
     },
     "execution_count": 12,
     "metadata": {},
     "output_type": "execute_result"
    }
   ],
   "source": [
    "def get_digits(user_input):\n",
    "    digits_list = []\n",
    "    for char in user_input:\n",
    "        if char.isdigit():\n",
    "            digits_list.append(int(char))\n",
    "    return digits_list\n",
    "\n",
    "\n",
    "# address = \"123 Real Street, Apt. 2, Springfield, OR 43498\"\n",
    "# get_digits(address)\n",
    "\n",
    "sentence = \"My phone number is (555) 555-4321\"\n",
    "get_digits(sentence)\n"
   ]
  },
  {
   "cell_type": "markdown",
   "metadata": {},
   "source": [
    "###  Exercise 3"
   ]
  },
  {
   "cell_type": "markdown",
   "metadata": {},
   "source": [
    "Given a string `digits`, return a **string** of the digits + 1<br>\n",
    "\n",
    "Ex. 1<br>\n",
    "digits = '123'<br>\n",
    "Expected Output: '124'<br>\n",
    "\n",
    "Ex. 2<br>\n",
    "digits = '99'<br>\n",
    "Expected Output: '100'<br>"
   ]
  },
  {
   "cell_type": "code",
   "execution_count": 8,
   "metadata": {},
   "outputs": [
    {
     "data": {
      "text/plain": [
       "'100'"
      ]
     },
     "execution_count": 8,
     "metadata": {},
     "output_type": "execute_result"
    }
   ],
   "source": [
    "def str_plus_one(digits):\n",
    "    digits_plus_one = \"\"\n",
    "    \n",
    "    digit_string = int(digits)\n",
    "    digits_plus_one = (digit_string + 1)\n",
    "    return str(digits_plus_one)    \n",
    "\n",
    "digits = '99'\n",
    "str_plus_one(digits)     "
   ]
  },
  {
   "cell_type": "code",
   "execution_count": null,
   "metadata": {},
   "outputs": [],
   "source": []
  }
 ],
 "metadata": {
  "kernelspec": {
   "display_name": "Python 3 (ipykernel)",
   "language": "python",
   "name": "python3"
  },
  "language_info": {
   "codemirror_mode": {
    "name": "ipython",
    "version": 3
   },
   "file_extension": ".py",
   "mimetype": "text/x-python",
   "name": "python",
   "nbconvert_exporter": "python",
   "pygments_lexer": "ipython3",
   "version": "3.10.9"
  }
 },
 "nbformat": 4,
 "nbformat_minor": 4
}
